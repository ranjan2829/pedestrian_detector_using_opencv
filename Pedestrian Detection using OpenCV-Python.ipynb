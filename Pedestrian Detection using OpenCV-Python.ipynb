{
 "cells": [
  {
   "cell_type": "code",
   "execution_count": 23,
   "id": "2c708f17",
   "metadata": {},
   "outputs": [
    {
     "name": "stderr",
     "output_type": "stream",
     "text": [
      "ERROR: Could not find a version that satisfies the requirement moudle_name (from versions: none)\n",
      "ERROR: No matching distribution found for moudle_name\n",
      "WARNING: You are using pip version 21.1.3; however, version 21.3.1 is available.\n",
      "You should consider upgrading via the 'c:\\users\\ranjan\\appdata\\local\\programs\\python\\python39\\python.exe -m pip install --upgrade pip' command.\n"
     ]
    }
   ],
   "source": [
    "!pip install moudle_name\n"
   ]
  },
  {
   "cell_type": "code",
   "execution_count": 37,
   "id": "0b23beb4",
   "metadata": {},
   "outputs": [],
   "source": [
    "import cv2\n",
    "import imutils\n",
    "import numpy as np"
   ]
  },
  {
   "cell_type": "code",
   "execution_count": 38,
   "id": "500c4461",
   "metadata": {},
   "outputs": [],
   "source": [
    "HOG=cv2.HOGDescriptor()"
   ]
  },
  {
   "cell_type": "code",
   "execution_count": 39,
   "id": "e817ffc5",
   "metadata": {},
   "outputs": [],
   "source": [
    "HOG.setSVMDetector(cv2.HOGDescriptor_getDefaultPeopleDetector())"
   ]
  },
  {
   "cell_type": "code",
   "execution_count": 46,
   "id": "5733e8aa",
   "metadata": {},
   "outputs": [],
   "source": [
    "image=cv2.imread('pede.png',0)"
   ]
  },
  {
   "cell_type": "code",
   "execution_count": 58,
   "id": "51256c6c",
   "metadata": {},
   "outputs": [],
   "source": [
    "image=imutils.resize(image,\n",
    "                     width=min(400,image.shape[1]))\n",
    "(regions,_)=HOG.detectMultiScale(image,winStride=(4,4),\n",
    "                                padding=(4,4,),\n",
    "                                scale=1.05)\n",
    "\n",
    "#drawing the rectabgles\n",
    "for (x,y,w,h)in regions:\n",
    "    cv2.rectangle(image, (x, y),\n",
    "                 (x+w,y+h),\n",
    "                 (0,0,255),2)\n",
    "    cv2.imshow(\"image\",image)\n",
    "    cv2.waitKey(0)\n",
    "    cv2.destroyAllWindows()"
   ]
  },
  {
   "cell_type": "code",
   "execution_count": 49,
   "id": "81993332",
   "metadata": {},
   "outputs": [],
   "source": [
    "\n",
    "(regions, _) = hog.detectMultiScale(image,\n",
    "\t\t\t\t\t\t\t\t\twinStride=(4, 4),\n",
    "\t\t\t\t\t\t\t\t\tpadding=(4, 4),\n",
    "\t\t\t\t\t\t\t\t\tscale=1.05)\n",
    "\n",
    "# Drawing the regions in the Image\n",
    "for (x, y, w, h) in regions:\n",
    "\tcv2.rectangle(image, (x, y),\n",
    "\t\t\t\t(x + w, y + h),\n",
    "\t\t\t\t(0, 0, 255), 2)\n",
    "\n",
    "# Showing the output Image\n",
    "cv2.imshow(\"Image\", image)\n",
    "cv2.waitKey(0)\n",
    "\n",
    "cv2.destroyAllWindows()\n"
   ]
  },
  {
   "cell_type": "code",
   "execution_count": null,
   "id": "05079af8",
   "metadata": {},
   "outputs": [],
   "source": []
  }
 ],
 "metadata": {
  "kernelspec": {
   "display_name": "Python 3 (ipykernel)",
   "language": "python",
   "name": "python3"
  },
  "language_info": {
   "codemirror_mode": {
    "name": "ipython",
    "version": 3
   },
   "file_extension": ".py",
   "mimetype": "text/x-python",
   "name": "python",
   "nbconvert_exporter": "python",
   "pygments_lexer": "ipython3",
   "version": "3.9.6"
  }
 },
 "nbformat": 4,
 "nbformat_minor": 5
}
